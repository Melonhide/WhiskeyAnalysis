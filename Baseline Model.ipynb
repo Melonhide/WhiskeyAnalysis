{
 "cells": [
  {
   "cell_type": "code",
   "execution_count": 3,
   "id": "6e2ee39b",
   "metadata": {
    "ExecuteTime": {
     "end_time": "2024-03-04T00:30:53.621287Z",
     "start_time": "2024-03-04T00:30:53.613943Z"
    }
   },
   "outputs": [],
   "source": [
    "import pandas as pd\n",
    "import numpy as np\n",
    "import matplotlib.pyplot as plt\n",
    "import seaborn as sns\n",
    "from sklearn.model_selection import train_test_split\n",
    "from sklearn.linear_model import LinearRegression\n",
    "from sklearn.metrics import mean_squared_error, r2_score\n",
    "from sklearn.tree import DecisionTreeRegressor\n",
    "from sklearn.preprocessing import PolynomialFeatures"
   ]
  },
  {
   "cell_type": "code",
   "execution_count": 4,
   "id": "f0aa344c",
   "metadata": {
    "ExecuteTime": {
     "end_time": "2024-03-04T00:32:28.439667Z",
     "start_time": "2024-03-04T00:32:28.409983Z"
    }
   },
   "outputs": [],
   "source": [
    "df_rating = pd.read_csv(\"ratings.csv\")\n",
    "df_whiskey = pd.read_csv(\"whiskey.csv\")\n",
    "\n",
    "#df_rating[\"whiskey\"] = df_whiskey[\"Whiskey\"].astype(int)\n",
    "df = pd.merge(df_rating, df_whiskey, left_on=\"whiskey\", right_on=\"Whiskey\", how = \"left\")\n",
    "df = df.dropna(subset=['Whiskey'])"
   ]
  },
  {
   "cell_type": "code",
   "execution_count": 5,
   "id": "0fa654bc",
   "metadata": {
    "ExecuteTime": {
     "end_time": "2024-03-04T00:32:33.042554Z",
     "start_time": "2024-03-04T00:32:33.015607Z"
    }
   },
   "outputs": [
    {
     "data": {
      "text/html": [
       "<div>\n",
       "<style scoped>\n",
       "    .dataframe tbody tr th:only-of-type {\n",
       "        vertical-align: middle;\n",
       "    }\n",
       "\n",
       "    .dataframe tbody tr th {\n",
       "        vertical-align: top;\n",
       "    }\n",
       "\n",
       "    .dataframe thead th {\n",
       "        text-align: right;\n",
       "    }\n",
       "</style>\n",
       "<table border=\"1\" class=\"dataframe\">\n",
       "  <thead>\n",
       "    <tr style=\"text-align: right;\">\n",
       "      <th></th>\n",
       "      <th>UID</th>\n",
       "      <th>whiskey</th>\n",
       "      <th>Liking - DEPENDANT VARIABLE</th>\n",
       "      <th>Whiskey</th>\n",
       "      <th>Harshness</th>\n",
       "      <th>Sweetness</th>\n",
       "      <th>Nutiness</th>\n",
       "      <th>Smokiness</th>\n",
       "      <th>Creaminess</th>\n",
       "    </tr>\n",
       "  </thead>\n",
       "  <tbody>\n",
       "    <tr>\n",
       "      <th>0</th>\n",
       "      <td>1101</td>\n",
       "      <td>873</td>\n",
       "      <td>9</td>\n",
       "      <td>873.0</td>\n",
       "      <td>6.62</td>\n",
       "      <td>6.21</td>\n",
       "      <td>4.95</td>\n",
       "      <td>5.30</td>\n",
       "      <td>5.98</td>\n",
       "    </tr>\n",
       "    <tr>\n",
       "      <th>1</th>\n",
       "      <td>1101</td>\n",
       "      <td>462</td>\n",
       "      <td>4</td>\n",
       "      <td>462.0</td>\n",
       "      <td>6.80</td>\n",
       "      <td>5.77</td>\n",
       "      <td>5.21</td>\n",
       "      <td>4.63</td>\n",
       "      <td>5.27</td>\n",
       "    </tr>\n",
       "    <tr>\n",
       "      <th>2</th>\n",
       "      <td>1101</td>\n",
       "      <td>423</td>\n",
       "      <td>3</td>\n",
       "      <td>423.0</td>\n",
       "      <td>6.36</td>\n",
       "      <td>7.40</td>\n",
       "      <td>6.28</td>\n",
       "      <td>5.66</td>\n",
       "      <td>4.00</td>\n",
       "    </tr>\n",
       "    <tr>\n",
       "      <th>3</th>\n",
       "      <td>1101</td>\n",
       "      <td>324</td>\n",
       "      <td>1</td>\n",
       "      <td>324.0</td>\n",
       "      <td>7.20</td>\n",
       "      <td>7.26</td>\n",
       "      <td>6.83</td>\n",
       "      <td>6.22</td>\n",
       "      <td>4.82</td>\n",
       "    </tr>\n",
       "    <tr>\n",
       "      <th>5</th>\n",
       "      <td>1101</td>\n",
       "      <td>299</td>\n",
       "      <td>8</td>\n",
       "      <td>299.0</td>\n",
       "      <td>5.16</td>\n",
       "      <td>5.27</td>\n",
       "      <td>4.29</td>\n",
       "      <td>3.36</td>\n",
       "      <td>4.77</td>\n",
       "    </tr>\n",
       "    <tr>\n",
       "      <th>...</th>\n",
       "      <td>...</td>\n",
       "      <td>...</td>\n",
       "      <td>...</td>\n",
       "      <td>...</td>\n",
       "      <td>...</td>\n",
       "      <td>...</td>\n",
       "      <td>...</td>\n",
       "      <td>...</td>\n",
       "      <td>...</td>\n",
       "    </tr>\n",
       "    <tr>\n",
       "      <th>4683</th>\n",
       "      <td>1475</td>\n",
       "      <td>378</td>\n",
       "      <td>3</td>\n",
       "      <td>378.0</td>\n",
       "      <td>5.53</td>\n",
       "      <td>5.84</td>\n",
       "      <td>4.67</td>\n",
       "      <td>5.46</td>\n",
       "      <td>4.68</td>\n",
       "    </tr>\n",
       "    <tr>\n",
       "      <th>4684</th>\n",
       "      <td>1475</td>\n",
       "      <td>617</td>\n",
       "      <td>2</td>\n",
       "      <td>617.0</td>\n",
       "      <td>6.58</td>\n",
       "      <td>6.88</td>\n",
       "      <td>6.43</td>\n",
       "      <td>6.42</td>\n",
       "      <td>4.33</td>\n",
       "    </tr>\n",
       "    <tr>\n",
       "      <th>4685</th>\n",
       "      <td>1475</td>\n",
       "      <td>982</td>\n",
       "      <td>6</td>\n",
       "      <td>982.0</td>\n",
       "      <td>6.17</td>\n",
       "      <td>6.25</td>\n",
       "      <td>5.26</td>\n",
       "      <td>4.98</td>\n",
       "      <td>5.65</td>\n",
       "    </tr>\n",
       "    <tr>\n",
       "      <th>4686</th>\n",
       "      <td>1475</td>\n",
       "      <td>948</td>\n",
       "      <td>2</td>\n",
       "      <td>948.0</td>\n",
       "      <td>5.63</td>\n",
       "      <td>4.03</td>\n",
       "      <td>3.20</td>\n",
       "      <td>4.38</td>\n",
       "      <td>6.62</td>\n",
       "    </tr>\n",
       "    <tr>\n",
       "      <th>4687</th>\n",
       "      <td>1475</td>\n",
       "      <td>355</td>\n",
       "      <td>4</td>\n",
       "      <td>355.0</td>\n",
       "      <td>7.62</td>\n",
       "      <td>6.01</td>\n",
       "      <td>5.26</td>\n",
       "      <td>5.71</td>\n",
       "      <td>6.06</td>\n",
       "    </tr>\n",
       "  </tbody>\n",
       "</table>\n",
       "<p>4555 rows × 9 columns</p>\n",
       "</div>"
      ],
      "text/plain": [
       "       UID  whiskey  Liking - DEPENDANT VARIABLE  Whiskey  Harshness  \\\n",
       "0     1101      873                            9    873.0       6.62   \n",
       "1     1101      462                            4    462.0       6.80   \n",
       "2     1101      423                            3    423.0       6.36   \n",
       "3     1101      324                            1    324.0       7.20   \n",
       "5     1101      299                            8    299.0       5.16   \n",
       "...    ...      ...                          ...      ...        ...   \n",
       "4683  1475      378                            3    378.0       5.53   \n",
       "4684  1475      617                            2    617.0       6.58   \n",
       "4685  1475      982                            6    982.0       6.17   \n",
       "4686  1475      948                            2    948.0       5.63   \n",
       "4687  1475      355                            4    355.0       7.62   \n",
       "\n",
       "      Sweetness  Nutiness  Smokiness  Creaminess  \n",
       "0          6.21      4.95       5.30        5.98  \n",
       "1          5.77      5.21       4.63        5.27  \n",
       "2          7.40      6.28       5.66        4.00  \n",
       "3          7.26      6.83       6.22        4.82  \n",
       "5          5.27      4.29       3.36        4.77  \n",
       "...         ...       ...        ...         ...  \n",
       "4683       5.84      4.67       5.46        4.68  \n",
       "4684       6.88      6.43       6.42        4.33  \n",
       "4685       6.25      5.26       4.98        5.65  \n",
       "4686       4.03      3.20       4.38        6.62  \n",
       "4687       6.01      5.26       5.71        6.06  \n",
       "\n",
       "[4555 rows x 9 columns]"
      ]
     },
     "execution_count": 5,
     "metadata": {},
     "output_type": "execute_result"
    }
   ],
   "source": [
    "df"
   ]
  },
  {
   "cell_type": "code",
   "execution_count": 47,
   "id": "288b3114",
   "metadata": {
    "ExecuteTime": {
     "end_time": "2024-02-26T03:08:07.775367Z",
     "start_time": "2024-02-26T03:08:07.759229Z"
    }
   },
   "outputs": [
    {
     "data": {
      "text/html": [
       "<div>\n",
       "<style scoped>\n",
       "    .dataframe tbody tr th:only-of-type {\n",
       "        vertical-align: middle;\n",
       "    }\n",
       "\n",
       "    .dataframe tbody tr th {\n",
       "        vertical-align: top;\n",
       "    }\n",
       "\n",
       "    .dataframe thead th {\n",
       "        text-align: right;\n",
       "    }\n",
       "</style>\n",
       "<table border=\"1\" class=\"dataframe\">\n",
       "  <thead>\n",
       "    <tr style=\"text-align: right;\">\n",
       "      <th></th>\n",
       "      <th>UID</th>\n",
       "      <th>whiskey</th>\n",
       "      <th>Liking - DEPENDANT VARIABLE</th>\n",
       "    </tr>\n",
       "  </thead>\n",
       "  <tbody>\n",
       "    <tr>\n",
       "      <th>0</th>\n",
       "      <td>1101</td>\n",
       "      <td>873</td>\n",
       "      <td>9</td>\n",
       "    </tr>\n",
       "    <tr>\n",
       "      <th>1</th>\n",
       "      <td>1101</td>\n",
       "      <td>462</td>\n",
       "      <td>4</td>\n",
       "    </tr>\n",
       "    <tr>\n",
       "      <th>2</th>\n",
       "      <td>1101</td>\n",
       "      <td>423</td>\n",
       "      <td>3</td>\n",
       "    </tr>\n",
       "    <tr>\n",
       "      <th>3</th>\n",
       "      <td>1101</td>\n",
       "      <td>324</td>\n",
       "      <td>1</td>\n",
       "    </tr>\n",
       "    <tr>\n",
       "      <th>4</th>\n",
       "      <td>1101</td>\n",
       "      <td>754</td>\n",
       "      <td>3</td>\n",
       "    </tr>\n",
       "    <tr>\n",
       "      <th>...</th>\n",
       "      <td>...</td>\n",
       "      <td>...</td>\n",
       "      <td>...</td>\n",
       "    </tr>\n",
       "    <tr>\n",
       "      <th>4683</th>\n",
       "      <td>1475</td>\n",
       "      <td>378</td>\n",
       "      <td>3</td>\n",
       "    </tr>\n",
       "    <tr>\n",
       "      <th>4684</th>\n",
       "      <td>1475</td>\n",
       "      <td>617</td>\n",
       "      <td>2</td>\n",
       "    </tr>\n",
       "    <tr>\n",
       "      <th>4685</th>\n",
       "      <td>1475</td>\n",
       "      <td>982</td>\n",
       "      <td>6</td>\n",
       "    </tr>\n",
       "    <tr>\n",
       "      <th>4686</th>\n",
       "      <td>1475</td>\n",
       "      <td>948</td>\n",
       "      <td>2</td>\n",
       "    </tr>\n",
       "    <tr>\n",
       "      <th>4687</th>\n",
       "      <td>1475</td>\n",
       "      <td>355</td>\n",
       "      <td>4</td>\n",
       "    </tr>\n",
       "  </tbody>\n",
       "</table>\n",
       "<p>4688 rows × 3 columns</p>\n",
       "</div>"
      ],
      "text/plain": [
       "       UID  whiskey  Liking - DEPENDANT VARIABLE\n",
       "0     1101      873                            9\n",
       "1     1101      462                            4\n",
       "2     1101      423                            3\n",
       "3     1101      324                            1\n",
       "4     1101      754                            3\n",
       "...    ...      ...                          ...\n",
       "4683  1475      378                            3\n",
       "4684  1475      617                            2\n",
       "4685  1475      982                            6\n",
       "4686  1475      948                            2\n",
       "4687  1475      355                            4\n",
       "\n",
       "[4688 rows x 3 columns]"
      ]
     },
     "execution_count": 47,
     "metadata": {},
     "output_type": "execute_result"
    }
   ],
   "source": [
    "df_rating"
   ]
  },
  {
   "cell_type": "code",
   "execution_count": 43,
   "id": "096e643d",
   "metadata": {
    "ExecuteTime": {
     "end_time": "2024-02-26T03:04:42.604508Z",
     "start_time": "2024-02-26T03:04:42.597852Z"
    }
   },
   "outputs": [
    {
     "data": {
      "text/plain": [
       "UID\n",
       "1101    16\n",
       "1337    16\n",
       "1353    16\n",
       "1352    16\n",
       "1351    16\n",
       "        ..\n",
       "1223    16\n",
       "1222    16\n",
       "1221    16\n",
       "1220    16\n",
       "1475    16\n",
       "Name: count, Length: 293, dtype: int64"
      ]
     },
     "execution_count": 43,
     "metadata": {},
     "output_type": "execute_result"
    }
   ],
   "source": [
    "df_rating['UID'].value_counts()"
   ]
  },
  {
   "cell_type": "code",
   "execution_count": 4,
   "id": "9e03f8eb",
   "metadata": {
    "ExecuteTime": {
     "end_time": "2024-02-25T21:19:21.505424Z",
     "start_time": "2024-02-25T21:19:21.482374Z"
    }
   },
   "outputs": [
    {
     "data": {
      "text/html": [
       "<div>\n",
       "<style scoped>\n",
       "    .dataframe tbody tr th:only-of-type {\n",
       "        vertical-align: middle;\n",
       "    }\n",
       "\n",
       "    .dataframe tbody tr th {\n",
       "        vertical-align: top;\n",
       "    }\n",
       "\n",
       "    .dataframe thead th {\n",
       "        text-align: right;\n",
       "    }\n",
       "</style>\n",
       "<table border=\"1\" class=\"dataframe\">\n",
       "  <thead>\n",
       "    <tr style=\"text-align: right;\">\n",
       "      <th></th>\n",
       "      <th>Whiskey</th>\n",
       "      <th>Harshness</th>\n",
       "      <th>Sweetness</th>\n",
       "      <th>Nutiness</th>\n",
       "      <th>Smokiness</th>\n",
       "      <th>Creaminess</th>\n",
       "    </tr>\n",
       "  </thead>\n",
       "  <tbody>\n",
       "    <tr>\n",
       "      <th>0</th>\n",
       "      <td>110</td>\n",
       "      <td>6.93</td>\n",
       "      <td>5.61</td>\n",
       "      <td>4.30</td>\n",
       "      <td>6.44</td>\n",
       "      <td>6.18</td>\n",
       "    </tr>\n",
       "    <tr>\n",
       "      <th>1</th>\n",
       "      <td>121</td>\n",
       "      <td>7.79</td>\n",
       "      <td>5.45</td>\n",
       "      <td>4.67</td>\n",
       "      <td>6.34</td>\n",
       "      <td>6.84</td>\n",
       "    </tr>\n",
       "    <tr>\n",
       "      <th>2</th>\n",
       "      <td>135</td>\n",
       "      <td>5.50</td>\n",
       "      <td>6.77</td>\n",
       "      <td>5.92</td>\n",
       "      <td>4.91</td>\n",
       "      <td>4.15</td>\n",
       "    </tr>\n",
       "    <tr>\n",
       "      <th>3</th>\n",
       "      <td>171</td>\n",
       "      <td>6.90</td>\n",
       "      <td>5.36</td>\n",
       "      <td>4.51</td>\n",
       "      <td>5.23</td>\n",
       "      <td>6.19</td>\n",
       "    </tr>\n",
       "    <tr>\n",
       "      <th>4</th>\n",
       "      <td>231</td>\n",
       "      <td>5.25</td>\n",
       "      <td>7.02</td>\n",
       "      <td>6.66</td>\n",
       "      <td>6.33</td>\n",
       "      <td>3.69</td>\n",
       "    </tr>\n",
       "    <tr>\n",
       "      <th>5</th>\n",
       "      <td>248</td>\n",
       "      <td>5.87</td>\n",
       "      <td>6.31</td>\n",
       "      <td>5.52</td>\n",
       "      <td>4.48</td>\n",
       "      <td>5.10</td>\n",
       "    </tr>\n",
       "    <tr>\n",
       "      <th>6</th>\n",
       "      <td>274</td>\n",
       "      <td>5.53</td>\n",
       "      <td>6.38</td>\n",
       "      <td>5.57</td>\n",
       "      <td>5.58</td>\n",
       "      <td>4.38</td>\n",
       "    </tr>\n",
       "    <tr>\n",
       "      <th>7</th>\n",
       "      <td>299</td>\n",
       "      <td>5.16</td>\n",
       "      <td>5.27</td>\n",
       "      <td>4.29</td>\n",
       "      <td>3.36</td>\n",
       "      <td>4.77</td>\n",
       "    </tr>\n",
       "    <tr>\n",
       "      <th>8</th>\n",
       "      <td>305</td>\n",
       "      <td>5.98</td>\n",
       "      <td>6.80</td>\n",
       "      <td>5.82</td>\n",
       "      <td>6.33</td>\n",
       "      <td>4.61</td>\n",
       "    </tr>\n",
       "    <tr>\n",
       "      <th>9</th>\n",
       "      <td>324</td>\n",
       "      <td>7.20</td>\n",
       "      <td>7.26</td>\n",
       "      <td>6.83</td>\n",
       "      <td>6.22</td>\n",
       "      <td>4.82</td>\n",
       "    </tr>\n",
       "    <tr>\n",
       "      <th>10</th>\n",
       "      <td>355</td>\n",
       "      <td>7.62</td>\n",
       "      <td>6.01</td>\n",
       "      <td>5.26</td>\n",
       "      <td>5.71</td>\n",
       "      <td>6.06</td>\n",
       "    </tr>\n",
       "    <tr>\n",
       "      <th>11</th>\n",
       "      <td>378</td>\n",
       "      <td>5.53</td>\n",
       "      <td>5.84</td>\n",
       "      <td>4.67</td>\n",
       "      <td>5.46</td>\n",
       "      <td>4.68</td>\n",
       "    </tr>\n",
       "    <tr>\n",
       "      <th>12</th>\n",
       "      <td>406</td>\n",
       "      <td>7.59</td>\n",
       "      <td>4.84</td>\n",
       "      <td>4.02</td>\n",
       "      <td>6.48</td>\n",
       "      <td>7.52</td>\n",
       "    </tr>\n",
       "    <tr>\n",
       "      <th>13</th>\n",
       "      <td>423</td>\n",
       "      <td>6.36</td>\n",
       "      <td>7.40</td>\n",
       "      <td>6.28</td>\n",
       "      <td>5.66</td>\n",
       "      <td>4.00</td>\n",
       "    </tr>\n",
       "    <tr>\n",
       "      <th>14</th>\n",
       "      <td>447</td>\n",
       "      <td>7.44</td>\n",
       "      <td>4.93</td>\n",
       "      <td>4.28</td>\n",
       "      <td>5.89</td>\n",
       "      <td>7.11</td>\n",
       "    </tr>\n",
       "    <tr>\n",
       "      <th>15</th>\n",
       "      <td>462</td>\n",
       "      <td>6.80</td>\n",
       "      <td>5.77</td>\n",
       "      <td>5.21</td>\n",
       "      <td>4.63</td>\n",
       "      <td>5.27</td>\n",
       "    </tr>\n",
       "    <tr>\n",
       "      <th>16</th>\n",
       "      <td>494</td>\n",
       "      <td>4.42</td>\n",
       "      <td>6.03</td>\n",
       "      <td>5.61</td>\n",
       "      <td>3.65</td>\n",
       "      <td>3.65</td>\n",
       "    </tr>\n",
       "    <tr>\n",
       "      <th>17</th>\n",
       "      <td>524</td>\n",
       "      <td>6.45</td>\n",
       "      <td>7.42</td>\n",
       "      <td>7.13</td>\n",
       "      <td>6.99</td>\n",
       "      <td>3.57</td>\n",
       "    </tr>\n",
       "    <tr>\n",
       "      <th>18</th>\n",
       "      <td>579</td>\n",
       "      <td>4.47</td>\n",
       "      <td>7.10</td>\n",
       "      <td>6.31</td>\n",
       "      <td>6.32</td>\n",
       "      <td>3.16</td>\n",
       "    </tr>\n",
       "    <tr>\n",
       "      <th>19</th>\n",
       "      <td>617</td>\n",
       "      <td>6.58</td>\n",
       "      <td>6.88</td>\n",
       "      <td>6.43</td>\n",
       "      <td>6.42</td>\n",
       "      <td>4.33</td>\n",
       "    </tr>\n",
       "    <tr>\n",
       "      <th>20</th>\n",
       "      <td>623</td>\n",
       "      <td>4.86</td>\n",
       "      <td>6.96</td>\n",
       "      <td>6.35</td>\n",
       "      <td>6.24</td>\n",
       "      <td>3.27</td>\n",
       "    </tr>\n",
       "    <tr>\n",
       "      <th>21</th>\n",
       "      <td>649</td>\n",
       "      <td>6.51</td>\n",
       "      <td>5.83</td>\n",
       "      <td>5.25</td>\n",
       "      <td>4.84</td>\n",
       "      <td>5.41</td>\n",
       "    </tr>\n",
       "    <tr>\n",
       "      <th>22</th>\n",
       "      <td>663</td>\n",
       "      <td>7.37</td>\n",
       "      <td>5.32</td>\n",
       "      <td>4.59</td>\n",
       "      <td>5.45</td>\n",
       "      <td>6.71</td>\n",
       "    </tr>\n",
       "    <tr>\n",
       "      <th>23</th>\n",
       "      <td>684</td>\n",
       "      <td>7.67</td>\n",
       "      <td>5.13</td>\n",
       "      <td>3.88</td>\n",
       "      <td>6.30</td>\n",
       "      <td>7.32</td>\n",
       "    </tr>\n",
       "    <tr>\n",
       "      <th>24</th>\n",
       "      <td>724</td>\n",
       "      <td>6.74</td>\n",
       "      <td>5.00</td>\n",
       "      <td>4.23</td>\n",
       "      <td>5.83</td>\n",
       "      <td>6.92</td>\n",
       "    </tr>\n",
       "    <tr>\n",
       "      <th>25</th>\n",
       "      <td>731</td>\n",
       "      <td>5.49</td>\n",
       "      <td>6.17</td>\n",
       "      <td>5.27</td>\n",
       "      <td>5.13</td>\n",
       "      <td>4.56</td>\n",
       "    </tr>\n",
       "    <tr>\n",
       "      <th>26</th>\n",
       "      <td>781</td>\n",
       "      <td>4.79</td>\n",
       "      <td>6.53</td>\n",
       "      <td>6.07</td>\n",
       "      <td>4.22</td>\n",
       "      <td>3.53</td>\n",
       "    </tr>\n",
       "    <tr>\n",
       "      <th>27</th>\n",
       "      <td>798</td>\n",
       "      <td>7.22</td>\n",
       "      <td>6.51</td>\n",
       "      <td>5.93</td>\n",
       "      <td>5.42</td>\n",
       "      <td>5.61</td>\n",
       "    </tr>\n",
       "    <tr>\n",
       "      <th>28</th>\n",
       "      <td>814</td>\n",
       "      <td>6.35</td>\n",
       "      <td>4.80</td>\n",
       "      <td>4.25</td>\n",
       "      <td>5.34</td>\n",
       "      <td>6.14</td>\n",
       "    </tr>\n",
       "    <tr>\n",
       "      <th>29</th>\n",
       "      <td>827</td>\n",
       "      <td>6.88</td>\n",
       "      <td>7.04</td>\n",
       "      <td>6.56</td>\n",
       "      <td>5.22</td>\n",
       "      <td>5.15</td>\n",
       "    </tr>\n",
       "    <tr>\n",
       "      <th>30</th>\n",
       "      <td>839</td>\n",
       "      <td>6.46</td>\n",
       "      <td>6.26</td>\n",
       "      <td>5.11</td>\n",
       "      <td>5.48</td>\n",
       "      <td>5.67</td>\n",
       "    </tr>\n",
       "    <tr>\n",
       "      <th>31</th>\n",
       "      <td>873</td>\n",
       "      <td>6.62</td>\n",
       "      <td>6.21</td>\n",
       "      <td>4.95</td>\n",
       "      <td>5.30</td>\n",
       "      <td>5.98</td>\n",
       "    </tr>\n",
       "    <tr>\n",
       "      <th>32</th>\n",
       "      <td>927</td>\n",
       "      <td>6.69</td>\n",
       "      <td>7.14</td>\n",
       "      <td>6.55</td>\n",
       "      <td>5.67</td>\n",
       "      <td>4.55</td>\n",
       "    </tr>\n",
       "    <tr>\n",
       "      <th>33</th>\n",
       "      <td>948</td>\n",
       "      <td>5.63</td>\n",
       "      <td>4.03</td>\n",
       "      <td>3.20</td>\n",
       "      <td>4.38</td>\n",
       "      <td>6.62</td>\n",
       "    </tr>\n",
       "    <tr>\n",
       "      <th>34</th>\n",
       "      <td>982</td>\n",
       "      <td>6.17</td>\n",
       "      <td>6.25</td>\n",
       "      <td>5.26</td>\n",
       "      <td>4.98</td>\n",
       "      <td>5.65</td>\n",
       "    </tr>\n",
       "  </tbody>\n",
       "</table>\n",
       "</div>"
      ],
      "text/plain": [
       "    Whiskey  Harshness  Sweetness  Nutiness  Smokiness  Creaminess\n",
       "0       110       6.93       5.61      4.30       6.44        6.18\n",
       "1       121       7.79       5.45      4.67       6.34        6.84\n",
       "2       135       5.50       6.77      5.92       4.91        4.15\n",
       "3       171       6.90       5.36      4.51       5.23        6.19\n",
       "4       231       5.25       7.02      6.66       6.33        3.69\n",
       "5       248       5.87       6.31      5.52       4.48        5.10\n",
       "6       274       5.53       6.38      5.57       5.58        4.38\n",
       "7       299       5.16       5.27      4.29       3.36        4.77\n",
       "8       305       5.98       6.80      5.82       6.33        4.61\n",
       "9       324       7.20       7.26      6.83       6.22        4.82\n",
       "10      355       7.62       6.01      5.26       5.71        6.06\n",
       "11      378       5.53       5.84      4.67       5.46        4.68\n",
       "12      406       7.59       4.84      4.02       6.48        7.52\n",
       "13      423       6.36       7.40      6.28       5.66        4.00\n",
       "14      447       7.44       4.93      4.28       5.89        7.11\n",
       "15      462       6.80       5.77      5.21       4.63        5.27\n",
       "16      494       4.42       6.03      5.61       3.65        3.65\n",
       "17      524       6.45       7.42      7.13       6.99        3.57\n",
       "18      579       4.47       7.10      6.31       6.32        3.16\n",
       "19      617       6.58       6.88      6.43       6.42        4.33\n",
       "20      623       4.86       6.96      6.35       6.24        3.27\n",
       "21      649       6.51       5.83      5.25       4.84        5.41\n",
       "22      663       7.37       5.32      4.59       5.45        6.71\n",
       "23      684       7.67       5.13      3.88       6.30        7.32\n",
       "24      724       6.74       5.00      4.23       5.83        6.92\n",
       "25      731       5.49       6.17      5.27       5.13        4.56\n",
       "26      781       4.79       6.53      6.07       4.22        3.53\n",
       "27      798       7.22       6.51      5.93       5.42        5.61\n",
       "28      814       6.35       4.80      4.25       5.34        6.14\n",
       "29      827       6.88       7.04      6.56       5.22        5.15\n",
       "30      839       6.46       6.26      5.11       5.48        5.67\n",
       "31      873       6.62       6.21      4.95       5.30        5.98\n",
       "32      927       6.69       7.14      6.55       5.67        4.55\n",
       "33      948       5.63       4.03      3.20       4.38        6.62\n",
       "34      982       6.17       6.25      5.26       4.98        5.65"
      ]
     },
     "execution_count": 4,
     "metadata": {},
     "output_type": "execute_result"
    }
   ],
   "source": [
    "df_whiskey"
   ]
  },
  {
   "cell_type": "markdown",
   "id": "bbe54158",
   "metadata": {},
   "source": [
    "## Modeling for each UID"
   ]
  },
  {
   "cell_type": "code",
   "execution_count": 66,
   "id": "d852ec76",
   "metadata": {
    "ExecuteTime": {
     "end_time": "2024-02-26T03:20:03.523974Z",
     "start_time": "2024-02-26T03:20:03.351976Z"
    }
   },
   "outputs": [
    {
     "data": {
      "image/png": "[encoded data removed]",
      "text/plain": [
       "<Figure size 640x480 with 1 Axes>"
      ]
     },
     "metadata": {},
     "output_type": "display_data"
    }
   ],
   "source": [
    "sample_uid = df['UID'].unique()[0]\n",
    "df_sample = df[df['UID'] == sample_uid]\n",
    "\n",
    "y = df_sample['Liking - DEPENDANT VARIABLE']\n",
    "\n",
    "# 列出所有风味特征的名称\n",
    "flavors = ['Harshness', 'Sweetness', 'Nutiness', 'Smokiness', 'Creaminess']\n",
    "\n",
    "# 为每个风味绘制一条线\n",
    "for flavor in flavors:\n",
    "    plt.scatter(df_sample[flavor],y, label=flavor)\n",
    "\n",
    "# 添加图例\n",
    "plt.legend()\n",
    "\n",
    "# 设置x轴和y轴的标签\n",
    "plt.xlabel('Quantitative Measure')\n",
    "plt.ylabel('Liking')\n",
    "\n",
    "# 设置图表标题\n",
    "plt.title('Liking vs. Quantitative Measure for Different Flavors')\n",
    "\n",
    "# 显示图表\n",
    "plt.show()"
   ]
  },
  {
   "cell_type": "code",
   "execution_count": 25,
   "id": "bbc1447a",
   "metadata": {
    "ExecuteTime": {
     "end_time": "2024-02-25T22:13:29.128544Z",
     "start_time": "2024-02-25T22:13:28.932423Z"
    }
   },
   "outputs": [
    {
     "data": {
      "image/png": "[encoded data removed]",
      "text/plain": [
       "<Figure size 1000x800 with 2 Axes>"
      ]
     },
     "metadata": {},
     "output_type": "display_data"
    }
   ],
   "source": [
    "correlation_matrix = df_sample.drop(['UID', 'whiskey', 'Whiskey'], axis = 1).corr()\n",
    "# 可视化相关性矩阵\n",
    "plt.figure(figsize=(10, 8))\n",
    "sns.heatmap(correlation_matrix, annot=True, cmap='coolwarm')\n",
    "plt.title('Correlation between Ratings and Flavor Profiles')\n",
    "plt.show()"
   ]
  },
  {
   "cell_type": "markdown",
   "id": "9216d25d",
   "metadata": {},
   "source": [
    "### Linear Regression"
   ]
  },
  {
   "cell_type": "code",
   "execution_count": 34,
   "id": "e9a6106e",
   "metadata": {
    "ExecuteTime": {
     "end_time": "2024-02-26T02:11:33.247947Z",
     "start_time": "2024-02-26T02:11:33.223167Z"
    }
   },
   "outputs": [
    {
     "name": "stdout",
     "output_type": "stream",
     "text": [
      "MSE for UID 1101: 14.229518165184423\n",
      "R-squared: -0.3882456746521388\n"
     ]
    }
   ],
   "source": [
    "\n",
    "\n",
    "# 分割数据\n",
    "X = df_sample[['Harshness', 'Sweetness', 'Nutiness', 'Smokiness', 'Creaminess']]\n",
    "y = df_sample['Liking - DEPENDANT VARIABLE']\n",
    "\n",
    "X_train, X_test, y_train, y_test = train_test_split(X, y, test_size=0.2, random_state=42)\n",
    "\n",
    "# 构建线性回归模型\n",
    "model = LinearRegression()\n",
    "model.fit(X_train, y_train)\n",
    "\n",
    "# 预测和评估\n",
    "y_pred = model.predict(X_test)\n",
    "mse = mean_squared_error(y_test, y_pred)\n",
    "r2 = r2_score(y_test, y_pred)\n",
    "print(f'MSE for UID {sample_uid}: {mse}')\n",
    "print(f'R-squared: {r2}')\n"
   ]
  },
  {
   "cell_type": "markdown",
   "id": "5a7869a7",
   "metadata": {},
   "source": [
    "### Decision Tree Regressor"
   ]
  },
  {
   "cell_type": "code",
   "execution_count": 35,
   "id": "a90a16d3",
   "metadata": {
    "ExecuteTime": {
     "end_time": "2024-02-26T02:11:34.757749Z",
     "start_time": "2024-02-26T02:11:34.740017Z"
    }
   },
   "outputs": [
    {
     "name": "stdout",
     "output_type": "stream",
     "text": [
      "Mean Squared Error: 21.5\n",
      "R-squared: -1.0975609756097562\n"
     ]
    }
   ],
   "source": [
    "tree_reg = DecisionTreeRegressor(random_state=42)\n",
    "\n",
    "# 训练模型\n",
    "tree_reg.fit(X_train, y_train)\n",
    "\n",
    "y_pred = tree_reg.predict(X_test)\n",
    "\n",
    "# 评估模型性能\n",
    "mse = mean_squared_error(y_test, y_pred)\n",
    "r2 = r2_score(y_test, y_pred)\n",
    "\n",
    "print(f\"Mean Squared Error: {mse}\")\n",
    "print(f\"R-squared: {r2}\")"
   ]
  },
  {
   "cell_type": "code",
   "execution_count": null,
   "id": "6ab2b245",
   "metadata": {},
   "outputs": [],
   "source": []
  },
  {
   "cell_type": "markdown",
   "id": "50352edb",
   "metadata": {},
   "source": [
    "### Quadratic Models"
   ]
  },
  {
   "cell_type": "code",
   "execution_count": 6,
   "id": "1aee8f8a",
   "metadata": {
    "ExecuteTime": {
     "end_time": "2024-03-04T00:36:31.436311Z",
     "start_time": "2024-03-04T00:36:31.420416Z"
    }
   },
   "outputs": [
    {
     "name": "stdout",
     "output_type": "stream",
     "text": [
      "Mean Squared Error: 18.479574831393226\n",
      "R-squared: -2.9599088924414056\n"
     ]
    }
   ],
   "source": [
    "poly_features = PolynomialFeatures(degree=2, include_bias=False)\n",
    "sample_uid = df['UID'].unique()[0]\n",
    "df_sample = df[df['UID'] == sample_uid]\n",
    "\n",
    "# 分割数据\n",
    "X = df_sample[['Harshness', 'Sweetness', 'Nutiness', 'Smokiness', 'Creaminess']]\n",
    "y = df_sample['Liking - DEPENDANT VARIABLE']\n",
    "\n",
    "X_poly = poly_features.fit_transform(X)\n",
    "\n",
    "X_train, X_test, y_train, y_test = train_test_split(X_poly, y, test_size=0.2, random_state=42)\n",
    "\n",
    "model = LinearRegression()\n",
    "model.fit(X_train, y_train)\n",
    "\n",
    "y_pred = model.predict(X_test)\n",
    "\n",
    "# 评估模型性能\n",
    "mse = mean_squared_error(y_test, y_pred)\n",
    "r2 = r2_score(y_test, y_pred)\n",
    "\n",
    "print(f\"Mean Squared Error: {mse}\")\n",
    "print(f\"R-squared: {r2}\")"
   ]
  },
  {
   "cell_type": "markdown",
   "id": "f9f13d02",
   "metadata": {},
   "source": [
    "### Cubic Models"
   ]
  },
  {
   "cell_type": "code",
   "execution_count": 12,
   "id": "896a09b3",
   "metadata": {
    "ExecuteTime": {
     "end_time": "2024-03-04T00:40:01.371035Z",
     "start_time": "2024-03-04T00:40:01.336574Z"
    }
   },
   "outputs": [
    {
     "name": "stdout",
     "output_type": "stream",
     "text": [
      "Mean Squared Error: 11.561472972369295\n",
      "R-squared: -1.4774584940791344\n"
     ]
    }
   ],
   "source": [
    "poly_features = PolynomialFeatures(degree=3, include_bias=False)\n",
    "sample_uid = df['UID'].unique()[0]\n",
    "df_sample = df[df['UID'] == sample_uid]\n",
    "\n",
    "# 分割数据\n",
    "X = df_sample[['Harshness', 'Sweetness', 'Nutiness', 'Smokiness', 'Creaminess']]\n",
    "y = df_sample['Liking - DEPENDANT VARIABLE']\n",
    "\n",
    "X_poly = poly_features.fit_transform(X)\n",
    "\n",
    "X_train, X_test, y_train, y_test = train_test_split(X_poly, y, test_size=0.2, random_state=42)\n",
    "\n",
    "model = LinearRegression()\n",
    "model.fit(X_train, y_train)\n",
    "\n",
    "y_pred = model.predict(X_test)\n",
    "\n",
    "# 评估模型性能\n",
    "mse = mean_squared_error(y_test, y_pred)\n",
    "r2 = r2_score(y_test, y_pred)\n",
    "\n",
    "print(f\"Mean Squared Error: {mse}\")\n",
    "print(f\"R-squared: {r2}\")"
   ]
  },
  {
   "cell_type": "markdown",
   "id": "03b295a3",
   "metadata": {},
   "source": [
    "### Quartic Models"
   ]
  },
  {
   "cell_type": "code",
   "execution_count": 15,
   "id": "20a953f1",
   "metadata": {
    "ExecuteTime": {
     "end_time": "2024-03-04T00:41:18.447349Z",
     "start_time": "2024-03-04T00:41:18.426117Z"
    }
   },
   "outputs": [
    {
     "name": "stdout",
     "output_type": "stream",
     "text": [
      "Mean Squared Error: 6.907709550445148\n",
      "R-squared: -0.4802234750953889\n"
     ]
    }
   ],
   "source": [
    "poly_features = PolynomialFeatures(degree=4, include_bias=False)\n",
    "sample_uid = df['UID'].unique()[0]\n",
    "df_sample = df[df['UID'] == sample_uid]\n",
    "\n",
    "# 分割数据\n",
    "X = df_sample[['Harshness', 'Sweetness', 'Nutiness', 'Smokiness', 'Creaminess']]\n",
    "y = df_sample['Liking - DEPENDANT VARIABLE']\n",
    "\n",
    "X_poly = poly_features.fit_transform(X)\n",
    "\n",
    "X_train, X_test, y_train, y_test = train_test_split(X_poly, y, test_size=0.2, random_state=42)\n",
    "\n",
    "model = LinearRegression()\n",
    "model.fit(X_train, y_train)\n",
    "\n",
    "y_pred = model.predict(X_test)\n",
    "\n",
    "# 评估模型性能\n",
    "mse = mean_squared_error(y_test, y_pred)\n",
    "r2 = r2_score(y_test, y_pred)\n",
    "\n",
    "print(f\"Mean Squared Error: {mse}\")\n",
    "print(f\"R-squared: {r2}\")"
   ]
  },
  {
   "cell_type": "markdown",
   "id": "025295a1",
   "metadata": {},
   "source": [
    "## Modeling for each flavor"
   ]
  },
  {
   "cell_type": "code",
   "execution_count": 39,
   "id": "c6c58888",
   "metadata": {
    "ExecuteTime": {
     "end_time": "2024-02-26T02:18:58.112742Z",
     "start_time": "2024-02-26T02:18:57.998736Z"
    }
   },
   "outputs": [
    {
     "name": "stderr",
     "output_type": "stream",
     "text": [
      "No artists with labels found to put in legend.  Note that artists whose label start with an underscore are ignored when legend() is called with no argument.\n"
     ]
    },
    {
     "data": {
      "image/png": "[encoded data removed]",
      "text/plain": [
       "<Figure size 640x480 with 1 Axes>"
      ]
     },
     "metadata": {},
     "output_type": "display_data"
    }
   ],
   "source": [
    "x = df['Liking - DEPENDANT VARIABLE']\n",
    "y = df['Harshness']\n",
    "\n",
    "plt.plot(x,y)\n",
    "\n",
    "# 添加图例\n",
    "plt.legend()\n",
    "\n",
    "# 设置x轴和y轴的标签\n",
    "plt.xlabel('Harshness')\n",
    "plt.ylabel('Liking')\n",
    "\n",
    "# 设置图表标题\n",
    "plt.title('Quantitative Measure for Harshness vs. Liking')\n",
    "\n",
    "# 显示图表\n",
    "plt.show()"
   ]
  },
  {
   "cell_type": "code",
   "execution_count": 44,
   "id": "2d373633",
   "metadata": {
    "ExecuteTime": {
     "end_time": "2024-02-26T03:07:32.886413Z",
     "start_time": "2024-02-26T03:07:32.869415Z"
    }
   },
   "outputs": [
    {
     "name": "stdout",
     "output_type": "stream",
     "text": [
      "Missing 'whiskey' values in 'df_whiskey':        UID  whiskey  Liking - DEPENDANT VARIABLE\n",
      "35    1103      NaN                            3\n",
      "36    1103      NaN                            5\n",
      "37    1103      NaN                            7\n",
      "38    1103      NaN                            4\n",
      "39    1103      NaN                            9\n",
      "...    ...      ...                          ...\n",
      "4683  1475      NaN                            3\n",
      "4684  1475      NaN                            2\n",
      "4685  1475      NaN                            6\n",
      "4686  1475      NaN                            2\n",
      "4687  1475      NaN                            4\n",
      "\n",
      "[4653 rows x 3 columns]\n"
     ]
    }
   ],
   "source": [
    "missing = df_rating[~df_rating['whiskey'].isin(df_whiskey['Whiskey'])]\n",
    "print(\"Missing 'whiskey' values in 'df_whiskey':\", missing)"
   ]
  },
  {
   "cell_type": "code",
   "execution_count": 54,
   "id": "7f7fbafb",
   "metadata": {
    "ExecuteTime": {
     "end_time": "2024-02-26T03:10:32.410440Z",
     "start_time": "2024-02-26T03:10:32.391221Z"
    }
   },
   "outputs": [
    {
     "data": {
      "text/plain": [
       "array([873, 462, 423, 324, 754, 299, 684, 982, 579, 798, 110, 355, 827,\n",
       "       406, 617, 305, 171, 663, 623, 494, 378, 248, 927, 274, 135, 814,\n",
       "       948, 231, 649, 731, 447, 524, 839, 121, 724, 781], dtype=int64)"
      ]
     },
     "execution_count": 54,
     "metadata": {},
     "output_type": "execute_result"
    }
   ],
   "source": [
    "df_rating['whiskey'].unique()"
   ]
  },
  {
   "cell_type": "code",
   "execution_count": 55,
   "id": "5a9b62c8",
   "metadata": {
    "ExecuteTime": {
     "end_time": "2024-02-26T03:10:45.499672Z",
     "start_time": "2024-02-26T03:10:45.490662Z"
    }
   },
   "outputs": [
    {
     "data": {
      "text/plain": [
       "array([110, 121, 135, 171, 231, 248, 274, 299, 305, 324, 355, 378, 406,\n",
       "       423, 447, 462, 494, 524, 579, 617, 623, 649, 663, 684, 724, 731,\n",
       "       781, 798, 814, 827, 839, 873, 927, 948, 982], dtype=int64)"
      ]
     },
     "execution_count": 55,
     "metadata": {},
     "output_type": "execute_result"
    }
   ],
   "source": [
    "df_whiskey['Whiskey'].unique()"
   ]
  },
  {
   "cell_type": "code",
   "execution_count": null,
   "id": "6e4a1c53",
   "metadata": {},
   "outputs": [],
   "source": []
  }
 ],
 "metadata": {
  "kernelspec": {
   "display_name": "Python 3 (ipykernel)",
   "language": "python",
   "name": "python3"
  },
  "language_info": {
   "codemirror_mode": {
    "name": "ipython",
    "version": 3
   },
   "file_extension": ".py",
   "mimetype": "text/x-python",
   "name": "python",
   "nbconvert_exporter": "python",
   "pygments_lexer": "ipython3",
   "version": "3.10.11"
  },
  "toc": {
   "base_numbering": 1,
   "nav_menu": {},
   "number_sections": true,
   "sideBar": true,
   "skip_h1_title": false,
   "title_cell": "Table of Contents",
   "title_sidebar": "Contents",
   "toc_cell": false,
   "toc_position": {},
   "toc_section_display": true,
   "toc_window_display": false
  },
  "varInspector": {
   "cols": {
    "lenName": 16,
    "lenType": 16,
    "lenVar": 40
   },
   "kernels_config": {
    "python": {
     "delete_cmd_postfix": "",
     "delete_cmd_prefix": "del ",
     "library": "var_list.py",
     "varRefreshCmd": "print(var_dic_list())"
    },
    "r": {
     "delete_cmd_postfix": ") ",
     "delete_cmd_prefix": "rm(",
     "library": "var_list.r",
     "varRefreshCmd": "cat(var_dic_list()) "
    }
   },
   "types_to_exclude": [
    "module",
    "function",
    "builtin_function_or_method",
    "instance",
    "_Feature"
   ],
   "window_display": false
  }
 },
 "nbformat": 4,
 "nbformat_minor": 5
}
